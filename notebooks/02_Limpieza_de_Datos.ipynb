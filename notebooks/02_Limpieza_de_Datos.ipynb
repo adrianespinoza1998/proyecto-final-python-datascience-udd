{
 "cells": [
  {
   "cell_type": "code",
   "execution_count": 1,
   "metadata": {},
   "outputs": [],
   "source": [
    "import pandas as pd\n",
    "import matplotlib.pyplot as plt\n",
    "import numpy as np\n",
    "from statistics import mode"
   ]
  },
  {
   "cell_type": "code",
   "execution_count": 2,
   "metadata": {},
   "outputs": [],
   "source": [
    "df = pd.read_csv('../data/chess_games.csv')"
   ]
  },
  {
   "cell_type": "markdown",
   "metadata": {},
   "source": [
    "Se borra opening_response, debido a que solo posee un 6% de los datos, en comparación con el resto de las columnas."
   ]
  },
  {
   "cell_type": "code",
   "execution_count": 3,
   "metadata": {},
   "outputs": [],
   "source": [
    "df = df.drop(columns=['opening_response'])"
   ]
  },
  {
   "cell_type": "markdown",
   "metadata": {},
   "source": [
    "Se reemplazan los valores nulos por Without Variation en opening_variation, ya que en opening_fullname, las aperturas poseen un nombre, y separado por un :, la variación, y todas las opening_variation nulas, no poseen esos dos puntos. "
   ]
  },
  {
   "cell_type": "code",
   "execution_count": 4,
   "metadata": {},
   "outputs": [
    {
     "data": {
      "text/html": [
       "<div>\n",
       "<style scoped>\n",
       "    .dataframe tbody tr th:only-of-type {\n",
       "        vertical-align: middle;\n",
       "    }\n",
       "\n",
       "    .dataframe tbody tr th {\n",
       "        vertical-align: top;\n",
       "    }\n",
       "\n",
       "    .dataframe thead th {\n",
       "        text-align: right;\n",
       "    }\n",
       "</style>\n",
       "<table border=\"1\" class=\"dataframe\">\n",
       "  <thead>\n",
       "    <tr style=\"text-align: right;\">\n",
       "      <th></th>\n",
       "      <th>game_id</th>\n",
       "      <th>rated</th>\n",
       "      <th>turns</th>\n",
       "      <th>victory_status</th>\n",
       "      <th>winner</th>\n",
       "      <th>time_increment</th>\n",
       "      <th>white_id</th>\n",
       "      <th>white_rating</th>\n",
       "      <th>black_id</th>\n",
       "      <th>black_rating</th>\n",
       "      <th>moves</th>\n",
       "      <th>opening_code</th>\n",
       "      <th>opening_moves</th>\n",
       "      <th>opening_fullname</th>\n",
       "      <th>opening_shortname</th>\n",
       "      <th>opening_variation</th>\n",
       "    </tr>\n",
       "  </thead>\n",
       "  <tbody>\n",
       "    <tr>\n",
       "      <th>4</th>\n",
       "      <td>5</td>\n",
       "      <td>True</td>\n",
       "      <td>95</td>\n",
       "      <td>Mate</td>\n",
       "      <td>White</td>\n",
       "      <td>30+3</td>\n",
       "      <td>nik221107</td>\n",
       "      <td>1523</td>\n",
       "      <td>adivanov2009</td>\n",
       "      <td>1469</td>\n",
       "      <td>e4 e5 Nf3 d6 d4 Nc6 d5 Nb4 a3 Na6 Nc3 Be7 b4 N...</td>\n",
       "      <td>C41</td>\n",
       "      <td>5</td>\n",
       "      <td>Philidor Defense</td>\n",
       "      <td>Philidor Defense</td>\n",
       "      <td>NaN</td>\n",
       "    </tr>\n",
       "    <tr>\n",
       "      <th>10</th>\n",
       "      <td>11</td>\n",
       "      <td>False</td>\n",
       "      <td>39</td>\n",
       "      <td>Mate</td>\n",
       "      <td>White</td>\n",
       "      <td>20+60</td>\n",
       "      <td>daniel_likes_chess</td>\n",
       "      <td>1381</td>\n",
       "      <td>anaissac</td>\n",
       "      <td>1272</td>\n",
       "      <td>e3 e6 d4 d6 Bd3 c6 Nf3 Be7 Nc3 Nf6 Bd2 Bd7 Qe2...</td>\n",
       "      <td>A00</td>\n",
       "      <td>1</td>\n",
       "      <td>Van't Kruijs Opening</td>\n",
       "      <td>Van't Kruijs Opening</td>\n",
       "      <td>NaN</td>\n",
       "    </tr>\n",
       "  </tbody>\n",
       "</table>\n",
       "</div>"
      ],
      "text/plain": [
       "    game_id  rated  turns victory_status winner time_increment  \\\n",
       "4         5   True     95           Mate  White           30+3   \n",
       "10       11  False     39           Mate  White          20+60   \n",
       "\n",
       "              white_id  white_rating      black_id  black_rating  \\\n",
       "4            nik221107          1523  adivanov2009          1469   \n",
       "10  daniel_likes_chess          1381      anaissac          1272   \n",
       "\n",
       "                                                moves opening_code  \\\n",
       "4   e4 e5 Nf3 d6 d4 Nc6 d5 Nb4 a3 Na6 Nc3 Be7 b4 N...          C41   \n",
       "10  e3 e6 d4 d6 Bd3 c6 Nf3 Be7 Nc3 Nf6 Bd2 Bd7 Qe2...          A00   \n",
       "\n",
       "    opening_moves      opening_fullname     opening_shortname  \\\n",
       "4               5      Philidor Defense      Philidor Defense   \n",
       "10              1  Van't Kruijs Opening  Van't Kruijs Opening   \n",
       "\n",
       "   opening_variation  \n",
       "4                NaN  \n",
       "10               NaN  "
      ]
     },
     "execution_count": 4,
     "metadata": {},
     "output_type": "execute_result"
    }
   ],
   "source": [
    "df[df['opening_variation'].isnull()].head(2)"
   ]
  },
  {
   "cell_type": "code",
   "execution_count": 5,
   "metadata": {},
   "outputs": [
    {
     "data": {
      "text/html": [
       "<div>\n",
       "<style scoped>\n",
       "    .dataframe tbody tr th:only-of-type {\n",
       "        vertical-align: middle;\n",
       "    }\n",
       "\n",
       "    .dataframe tbody tr th {\n",
       "        vertical-align: top;\n",
       "    }\n",
       "\n",
       "    .dataframe thead th {\n",
       "        text-align: right;\n",
       "    }\n",
       "</style>\n",
       "<table border=\"1\" class=\"dataframe\">\n",
       "  <thead>\n",
       "    <tr style=\"text-align: right;\">\n",
       "      <th></th>\n",
       "      <th>game_id</th>\n",
       "      <th>rated</th>\n",
       "      <th>turns</th>\n",
       "      <th>victory_status</th>\n",
       "      <th>winner</th>\n",
       "      <th>time_increment</th>\n",
       "      <th>white_id</th>\n",
       "      <th>white_rating</th>\n",
       "      <th>black_id</th>\n",
       "      <th>black_rating</th>\n",
       "      <th>moves</th>\n",
       "      <th>opening_code</th>\n",
       "      <th>opening_moves</th>\n",
       "      <th>opening_fullname</th>\n",
       "      <th>opening_shortname</th>\n",
       "      <th>opening_variation</th>\n",
       "    </tr>\n",
       "  </thead>\n",
       "  <tbody>\n",
       "    <tr>\n",
       "      <th>1</th>\n",
       "      <td>2</td>\n",
       "      <td>True</td>\n",
       "      <td>16</td>\n",
       "      <td>Resign</td>\n",
       "      <td>Black</td>\n",
       "      <td>5+10</td>\n",
       "      <td>a-00</td>\n",
       "      <td>1322</td>\n",
       "      <td>skinnerua</td>\n",
       "      <td>1261</td>\n",
       "      <td>d4 Nc6 e4 e5 f4 f6 dxe5 fxe5 fxe5 Nxe5 Qd4 Nc6...</td>\n",
       "      <td>B00</td>\n",
       "      <td>4</td>\n",
       "      <td>Nimzowitsch Defense: Kennedy Variation</td>\n",
       "      <td>Nimzowitsch Defense</td>\n",
       "      <td>Kennedy Variation</td>\n",
       "    </tr>\n",
       "    <tr>\n",
       "      <th>7</th>\n",
       "      <td>8</td>\n",
       "      <td>False</td>\n",
       "      <td>9</td>\n",
       "      <td>Resign</td>\n",
       "      <td>Black</td>\n",
       "      <td>15+30</td>\n",
       "      <td>daniel_likes_chess</td>\n",
       "      <td>1413</td>\n",
       "      <td>soultego</td>\n",
       "      <td>2108</td>\n",
       "      <td>e4 Nc6 d4 e5 d5 Nce7 c3 Ng6 b4</td>\n",
       "      <td>B00</td>\n",
       "      <td>5</td>\n",
       "      <td>Nimzowitsch Defense: Kennedy Variation |  Link...</td>\n",
       "      <td>Nimzowitsch Defense</td>\n",
       "      <td>Kennedy Variation</td>\n",
       "    </tr>\n",
       "  </tbody>\n",
       "</table>\n",
       "</div>"
      ],
      "text/plain": [
       "   game_id  rated  turns victory_status winner time_increment  \\\n",
       "1        2   True     16         Resign  Black           5+10   \n",
       "7        8  False      9         Resign  Black          15+30   \n",
       "\n",
       "             white_id  white_rating   black_id  black_rating  \\\n",
       "1                a-00          1322  skinnerua          1261   \n",
       "7  daniel_likes_chess          1413   soultego          2108   \n",
       "\n",
       "                                               moves opening_code  \\\n",
       "1  d4 Nc6 e4 e5 f4 f6 dxe5 fxe5 fxe5 Nxe5 Qd4 Nc6...          B00   \n",
       "7                     e4 Nc6 d4 e5 d5 Nce7 c3 Ng6 b4          B00   \n",
       "\n",
       "   opening_moves                                   opening_fullname  \\\n",
       "1              4             Nimzowitsch Defense: Kennedy Variation   \n",
       "7              5  Nimzowitsch Defense: Kennedy Variation |  Link...   \n",
       "\n",
       "     opening_shortname  opening_variation  \n",
       "1  Nimzowitsch Defense  Kennedy Variation  \n",
       "7  Nimzowitsch Defense  Kennedy Variation  "
      ]
     },
     "execution_count": 5,
     "metadata": {},
     "output_type": "execute_result"
    }
   ],
   "source": [
    "df[df['opening_variation'] == 'Kennedy Variation'].head(2)"
   ]
  },
  {
   "cell_type": "code",
   "execution_count": 6,
   "metadata": {},
   "outputs": [],
   "source": [
    "df['opening_variation'] = df['opening_variation'].fillna('Without variation')"
   ]
  },
  {
   "cell_type": "code",
   "execution_count": 7,
   "metadata": {},
   "outputs": [
    {
     "data": {
      "text/plain": [
       "game_id              0\n",
       "rated                0\n",
       "turns                0\n",
       "victory_status       0\n",
       "winner               0\n",
       "time_increment       0\n",
       "white_id             0\n",
       "white_rating         0\n",
       "black_id             0\n",
       "black_rating         0\n",
       "moves                0\n",
       "opening_code         0\n",
       "opening_moves        0\n",
       "opening_fullname     0\n",
       "opening_shortname    0\n",
       "opening_variation    0\n",
       "dtype: int64"
      ]
     },
     "execution_count": 7,
     "metadata": {},
     "output_type": "execute_result"
    }
   ],
   "source": [
    "df.isna().sum()"
   ]
  },
  {
   "cell_type": "markdown",
   "metadata": {},
   "source": [
    "Se puede observar que tanto `turns` como `opening_moves` poseen outliers, por lo que se procederá a eliminarlos."
   ]
  },
  {
   "cell_type": "code",
   "execution_count": 8,
   "metadata": {},
   "outputs": [
    {
     "data": {
      "text/plain": [
       "Text(0.5, 0, 'Opening moves')"
      ]
     },
     "execution_count": 8,
     "metadata": {},
     "output_type": "execute_result"
    },
    {
     "data": {
      "image/png": "[encoded data removed]",
      "text/plain": [
       "<Figure size 640x480 with 1 Axes>"
      ]
     },
     "metadata": {},
     "output_type": "display_data"
    }
   ],
   "source": [
    "plt.hist(df['opening_moves'], bins=20, color='blue', edgecolor='black')\n",
    "plt.title('Histogram of openig moves')\n",
    "plt.xlabel('Opening moves')"
   ]
  },
  {
   "cell_type": "code",
   "execution_count": 9,
   "metadata": {},
   "outputs": [
    {
     "data": {
      "text/plain": [
       "Text(0.5, 0, 'Turns')"
      ]
     },
     "execution_count": 9,
     "metadata": {},
     "output_type": "execute_result"
    },
    {
     "data": {
      "image/png": "[encoded data removed]",
      "text/plain": [
       "<Figure size 640x480 with 1 Axes>"
      ]
     },
     "metadata": {},
     "output_type": "display_data"
    }
   ],
   "source": [
    "plt.hist(df['turns'], bins=50, color='blue', edgecolor='black')\n",
    "plt.title('Histogram of turns')\n",
    "plt.xlabel('Turns')"
   ]
  },
  {
   "cell_type": "markdown",
   "metadata": {},
   "source": [
    "Se usa IQR (Q3-Q1) para eliminar los outliers de `turns` y `opening_moves`."
   ]
  },
  {
   "cell_type": "code",
   "execution_count": 10,
   "metadata": {},
   "outputs": [],
   "source": [
    "def impute_outliers_IQR(df):\n",
    "\n",
    "   q1=df.quantile(0.25)\n",
    "   q3=df.quantile(0.75)\n",
    "   IQR=q3-q1\n",
    "   upper = df[~(df>(q3+1.5*IQR))].max()\n",
    "   lower = df[~(df<(q1-1.5*IQR))].min()\n",
    "   df = np.where(df > upper,\n",
    "       df.mean(),\n",
    "       np.where(\n",
    "           df < lower,\n",
    "           df.mean(),\n",
    "           df\n",
    "           )\n",
    "       )\n",
    "\n",
    "   return df"
   ]
  },
  {
   "cell_type": "code",
   "execution_count": 11,
   "metadata": {},
   "outputs": [],
   "source": [
    "df['turns'] = impute_outliers_IQR(df['turns'])\n",
    "df['opening_moves'] = impute_outliers_IQR(df['opening_moves'])"
   ]
  },
  {
   "cell_type": "code",
   "execution_count": 12,
   "metadata": {},
   "outputs": [
    {
     "data": {
      "text/plain": [
       "Text(0.5, 0, 'Opening moves')"
      ]
     },
     "execution_count": 12,
     "metadata": {},
     "output_type": "execute_result"
    },
    {
     "data": {
      "image/png": "[encoded data removed]",
      "text/plain": [
       "<Figure size 640x480 with 1 Axes>"
      ]
     },
     "metadata": {},
     "output_type": "display_data"
    }
   ],
   "source": [
    "plt.hist(df['opening_moves'], bins=10, color='blue', edgecolor='black')\n",
    "plt.title('Histogram of openig moves')\n",
    "plt.xlabel('Opening moves')"
   ]
  },
  {
   "cell_type": "code",
   "execution_count": 47,
   "metadata": {},
   "outputs": [
    {
     "data": {
      "text/plain": [
       "Text(0.5, 0, 'Turns')"
      ]
     },
     "execution_count": 47,
     "metadata": {},
     "output_type": "execute_result"
    },
    {
     "data": {
      "image/png": "[encoded data removed]",
      "text/plain": [
       "<Figure size 640x480 with 1 Axes>"
      ]
     },
     "metadata": {},
     "output_type": "display_data"
    }
   ],
   "source": [
    "plt.hist(df['turns'], bins=50, color='blue', edgecolor='black')\n",
    "plt.title('Histogram of turns')\n",
    "plt.xlabel('Turns')"
   ]
  },
  {
   "cell_type": "markdown",
   "metadata": {},
   "source": [
    "# Creación de variables\n",
    "- rating_gap(int): Diferecia de rating entre ambos jugadores.\n",
    "  - Sirve para ver si el rating influye en el resultado de la partida.\n",
    "  - Ej: Ver si el jugador con mayor rating gana más partidas.\n",
    "-  most_used_movement(string): Movimiento más usado en la partida.\n",
    "   - Sirve para analizar si hay movimientos usados por los jugadores que influyan en el resultado de la partida.\n",
    "   - Ej: Todos los jugadores que usan constantemente el movimiento X, ganan más partidas.\n",
    " - total_time(int): Tiempo total de la partida.\n",
    "   - Sirve para analizar si el tiempo influye en el resultado de la partida.\n",
    "   - Ej: Cuando dos jugadores de elo alto juegan, la partida dura más tiempo.\n",
    " - turns_without_opening(int): Cantidad de turnos sin apertura.\n",
    "   - Sirve para analizar si el juego medio influye en el resultado de la partida.\n",
    "   - Ej: Los jugadores que realizan mas turnos en el juego medio ganan más partidas."
   ]
  },
  {
   "cell_type": "code",
   "execution_count": 31,
   "metadata": {},
   "outputs": [],
   "source": [
    "df['rating_gap'] = abs(df['white_rating'] - df['black_rating'])\n",
    "\n",
    "df['most_used_movement'] = df['moves'].str.split(' ').apply(lambda x: mode(x))\n",
    "\n",
    "df['total_time'] = ((df['time_increment'].str.split('+').apply(lambda x: int(x[1])) * df['turns']) / 60).apply(lambda x: int(x)) + df['time_increment'].str.split('+').apply(lambda x: int(x[0]))\n",
    "\n",
    "df['turns_without_opening'] = df['turns'] - df['opening_moves']"
   ]
  },
  {
   "cell_type": "code",
   "execution_count": 32,
   "metadata": {},
   "outputs": [],
   "source": [
    "# Guardar el dataframe en un archivo csv\n",
    "df.to_csv('../data/chess_games_clean.csv', index=False)"
   ]
  }
 ],
 "metadata": {
  "kernelspec": {
   "display_name": "proyecto_final (Python 3.12)",
   "language": "python",
   "name": "proyecto_final"
  },
  "language_info": {
   "codemirror_mode": {
    "name": "ipython",
    "version": 3
   },
   "file_extension": ".py",
   "mimetype": "text/x-python",
   "name": "python",
   "nbconvert_exporter": "python",
   "pygments_lexer": "ipython3",
   "version": "3.12.4"
  }
 },
 "nbformat": 4,
 "nbformat_minor": 2
}
