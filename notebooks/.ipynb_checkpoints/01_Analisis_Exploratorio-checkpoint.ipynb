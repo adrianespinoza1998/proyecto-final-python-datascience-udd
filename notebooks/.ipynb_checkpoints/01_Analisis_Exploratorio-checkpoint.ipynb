{
 "cells": [
  {
   "cell_type": "code",
   "execution_count": 1,
   "id": "34c448f9",
   "metadata": {},
   "outputs": [],
   "source": [
    "import pandas as pd"
   ]
  },
  {
   "cell_type": "code",
   "execution_count": 2,
   "id": "33e7975b",
   "metadata": {},
   "outputs": [],
   "source": [
    "df = pd.read_csv('chess_games.csv')"
   ]
  }
 ],
 "metadata": {
  "kernelspec": {
   "display_name": "proyecto_final (Python 3.12)",
   "language": "python",
   "name": "proyecto_final"
  },
  "language_info": {
   "codemirror_mode": {
    "name": "ipython",
    "version": 3
   },
   "file_extension": ".py",
   "mimetype": "text/x-python",
   "name": "python",
   "nbconvert_exporter": "python",
   "pygments_lexer": "ipython3",
   "version": "3.12.4"
  }
 },
 "nbformat": 4,
 "nbformat_minor": 5
}
